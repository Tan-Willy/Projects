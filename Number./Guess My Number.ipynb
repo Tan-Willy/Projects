{
    "nbformat_minor": 1, 
    "cells": [
        {
            "source": "# Welcome to Guess My Number!", 
            "cell_type": "markdown", 
            "metadata": {}
        }, 
        {
            "source": "Hi! This is one of my simple project that I did after my online course!                                                       \nYou will be given a maximum of 10 attempts and hints will be given =)", 
            "cell_type": "markdown", 
            "metadata": {}
        }, 
        {
            "execution_count": 1, 
            "cell_type": "code", 
            "metadata": {}, 
            "outputs": [
                {
                    "output_type": "stream", 
                    "name": "stdout", 
                    "text": "Take a guess from 0 to 100: 50\nYour guess is low.\n\nTake a guess from 0 to 100: 30\nYour guess is low.\n\nTake a guess from 0 to 100: 70\nYour guess is high.\n\nTake a guess from 0 to 100: 60\nYour guess is low.\n\nTake a guess from 0 to 100: 65\nYou guessed right!\n\nThe player has won!\n"
                }
            ], 
            "source": "import random\nguesstaken = 0\nsecret_number = random.randint(0, 100)\nwhile guesstaken <10:\n    guess = input('Take a guess from 0 to 100: ')\n    guess = int(guess)\n    guesstaken = guesstaken + 1\n    if guess < secret_number:\n        print ('Your guess is low.\\n')\n    elif guess > secret_number:\n        print ('Your guess is high.\\n')\n    else: \n        print ('You guessed right!\\n')\n    if guesstaken>9 and guess != secret_number:\n        print ('The player has lost!')\n        break\n    elif guess == secret_number:\n        print ('The player has won!')\n        break"
        }, 
        {
            "source": "Thanks for trying out my project!", 
            "cell_type": "markdown", 
            "metadata": {}
        }
    ], 
    "metadata": {
        "kernelspec": {
            "display_name": "Python 3.5", 
            "name": "python3", 
            "language": "python"
        }, 
        "language_info": {
            "mimetype": "text/x-python", 
            "nbconvert_exporter": "python", 
            "version": "3.5.5", 
            "name": "python", 
            "file_extension": ".py", 
            "pygments_lexer": "ipython3", 
            "codemirror_mode": {
                "version": 3, 
                "name": "ipython"
            }
        }
    }, 
    "nbformat": 4
}